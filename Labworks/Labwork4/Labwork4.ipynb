{
 "cells": [
  {
   "cell_type": "markdown",
   "metadata": {},
   "source": [
    "# Labwork 4\n",
    "This labwork should be done after reading the lecture 4. \n",
    "\n",
    "In the different exercises, you have to write or rewrite some code applying the different principles: SOLID, DRY, KISS..."
   ]
  },
  {
   "cell_type": "code",
   "execution_count": 4,
   "metadata": {},
   "outputs": [],
   "source": [
    "!bash -c \"[ ! -d labwork4 ] && mkdir labwork4\" "
   ]
  },
  {
   "cell_type": "markdown",
   "metadata": {},
   "source": [
    "## Exercise 1\n",
    "The following code does not respect SOLID principles. \n",
    "Modify it such that SRP is respected!"
   ]
  },
  {
   "cell_type": "code",
   "execution_count": 6,
   "metadata": {},
   "outputs": [
    {
     "name": "stdout",
     "output_type": "stream",
     "text": [
      "Overwriting labwork4/exercise1.py\n"
     ]
    }
   ],
   "source": [
    "%%writefile labwork4/exercise1.py\n",
    "\n",
    "class CoffeeShop:\n",
    "    def __init__(self, name: str, city: str, zip_code: int):\n",
    "        self.__name = name\n",
    "        self.__city = city\n",
    "        self.__zip_code = zip_code\n",
    "        \n",
    "    @property\n",
    "    def name(self) -> str:\n",
    "        return self.__name\n",
    "    \n",
    "    @property\n",
    "    def city(self) -> str:\n",
    "        return self.__city\n",
    "    \n",
    "    @property\n",
    "    def zip_code(self) -> int:\n",
    "        return self.__zip_code\n",
    "    \n",
    "    def change_address(self, city:str, zip_code: int):\n",
    "        self.__city = city\n",
    "        self.__zip_code = zip_code\n",
    "        \n",
    "if __name__ == '__main__':\n",
    "    cs = CoffeeShop('La Viet', 'Ha Noi', 111000)\n",
    "    cs.change_address('Neuville de Poitou', 86170)\n",
    "    print(f'CoffeeShop name is \"{cs.name}\"')\n",
    "    print(f'CoffeeShop is in \"{cs.city}\"')\n",
    "    print(f'CoffeeShop zip code is {cs.zip_code}')"
   ]
  },
  {
   "cell_type": "code",
   "execution_count": 7,
   "metadata": {},
   "outputs": [
    {
     "name": "stdout",
     "output_type": "stream",
     "text": [
      "Success: no issues found in 1 source file\n",
      "CoffeeShop name is \"La Viet\"\n",
      "CoffeeShop is in \"Neuville de Poitou\"\n",
      "CoffeeShop zip code is 86170\n"
     ]
    }
   ],
   "source": [
    "!cd labwork4 && mypy exercise1.py\n",
    "!cd labwork4 && python exercise1.py"
   ]
  },
  {
   "cell_type": "markdown",
   "metadata": {},
   "source": [
    "## Exercise 2\n",
    "This exercise focusses onto the `O` of SOLID: Open/close principle.\n",
    "The following code does not respect this principle...\n",
    "Modify it such that it follows it!"
   ]
  },
  {
   "cell_type": "code",
   "execution_count": 8,
   "metadata": {},
   "outputs": [
    {
     "name": "stdout",
     "output_type": "stream",
     "text": [
      "Writing labwork4/exercise2.py\n"
     ]
    }
   ],
   "source": [
    "%%writefile labwork4/exercise2.py\n",
    "class Company:\n",
    "    def __init__(self, name: str):\n",
    "        self.__name = name\n",
    "\n",
    "    @property\n",
    "    def name(self) -> str:\n",
    "        return self.__name\n",
    "\n",
    "\n",
    "class CompanyA(Company):\n",
    "    pass\n",
    "\n",
    "\n",
    "class CompanyB(Company):\n",
    "    pass\n",
    "\n",
    "\n",
    "class CompanyC(Company):\n",
    "    pass\n",
    "\n",
    "\n",
    "class CompanyD(Company):\n",
    "    pass\n",
    "\n",
    "\n",
    "class InvoiceService:\n",
    "    @staticmethod\n",
    "    def generate_invoice(company: Company) -> str:\n",
    "        if isinstance(company, CompanyA):\n",
    "            return \"some format of invoice for A company\"\n",
    "        if isinstance(company, CompanyB):\n",
    "            return \"some format of invoice for B company\"\n",
    "        if isinstance(company, CompanyC):\n",
    "            return \"some format of invoice for C company\"\n",
    "        return \"error\"\n",
    "\n",
    "\n",
    "if __name__ == \"__main__\":\n",
    "    print(InvoiceService.generate_invoice(CompanyA('A')))\n",
    "    print(InvoiceService.generate_invoice(CompanyB('B')))\n",
    "    print(InvoiceService.generate_invoice(CompanyC('C')))\n",
    "    print(InvoiceService.generate_invoice(CompanyD('D')))"
   ]
  },
  {
   "cell_type": "code",
   "execution_count": 9,
   "metadata": {},
   "outputs": [
    {
     "name": "stdout",
     "output_type": "stream",
     "text": [
      "Success: no issues found in 1 source file\n",
      "some format of invoice for A company\n",
      "some format of invoice for B company\n",
      "some format of invoice for C company\n",
      "error\n"
     ]
    }
   ],
   "source": [
    "!cd labwork4 && mypy exercise2.py\n",
    "!cd labwork4 && python exercise2.py"
   ]
  },
  {
   "cell_type": "markdown",
   "metadata": {},
   "source": [
    "## Exercise 3\n",
    "Let us continues with the SOLID principles.\n",
    "This exercise focusses onto the Liskov substitution principle.\n",
    "\n",
    "Modify the following code to follow LSP."
   ]
  },
  {
   "cell_type": "code",
   "execution_count": 10,
   "metadata": {},
   "outputs": [
    {
     "name": "stdout",
     "output_type": "stream",
     "text": [
      "Writing labwork4/exercise3.py\n"
     ]
    }
   ],
   "source": [
    "%%writefile labwork4/exercise3.py\n",
    "class CoffeeShop:\n",
    "    def __init__(self, name: str):\n",
    "        self.__name = name\n",
    "\n",
    "    @property\n",
    "    def name(self):\n",
    "        return self.__name\n",
    "\n",
    "    def takeaway(self) -> str:\n",
    "        return \"Delivery soon...\"\n",
    "    \n",
    "    \n",
    "class A(CoffeeShop):\n",
    "    def takeaway(self) -> str:\n",
    "        return \"Delivery at most 30 minutes\"\n",
    "\n",
    "\n",
    "class B(CoffeeShop):\n",
    "    def takeaway(self):\n",
    "        raise Exception('We do not have takeaway service')\n",
    "\n",
    "\n",
    "if __name__ == \"__main__\":\n",
    "    def display(A: CoffeeShop):\n",
    "        print(f'CoffeeShop {a.name}: {a.takeaway()}')\n",
    "    \n",
    "    a = A('A')\n",
    "    b = B('B')\n",
    "    display(a)\n",
    "    display(b)\n"
   ]
  },
  {
   "cell_type": "code",
   "execution_count": 16,
   "metadata": {},
   "outputs": [
    {
     "name": "stdout",
     "output_type": "stream",
     "text": [
      "Success: no issues found in 1 source file\n",
      "CoffeeShop A: Delivery at most 30 minutes\n"
     ]
    },
    {
     "name": "stderr",
     "output_type": "stream",
     "text": [
      "Traceback (most recent call last):\n",
      "  File \"d:\\laveneau\\OneDrive\\OneDrive - Université de Poitiers\\Enseignement\\USTH\\ProgrammingTechniques\\Labworks\\Labwork4\\labwork4\\exercise3.py\", line 24, in <module>\n",
      "    print(f'CoffeeShop {b.name}: {b.takeaway()}')\n",
      "  File \"d:\\laveneau\\OneDrive\\OneDrive - Université de Poitiers\\Enseignement\\USTH\\ProgrammingTechniques\\Labworks\\Labwork4\\labwork4\\exercise3.py\", line 17, in takeaway\n",
      "    raise Exception('We do not have takeaway service')\n",
      "Exception: We do not have takeaway service\n"
     ]
    }
   ],
   "source": [
    "!cd labwork4 && mypy exercise3.py\n",
    "!cd labwork4 && python exercise3.py"
   ]
  },
  {
   "cell_type": "markdown",
   "metadata": {},
   "source": [
    "## Exercise 4\n",
    "The `I` of SOLID now, for Interface Segregation Principle...\n",
    "Modify the following code to follow ISP."
   ]
  },
  {
   "cell_type": "code",
   "execution_count": 12,
   "metadata": {},
   "outputs": [
    {
     "name": "stdout",
     "output_type": "stream",
     "text": [
      "Writing labwork4/exercise4.py\n"
     ]
    }
   ],
   "source": [
    "%%writefile labwork4/exercise4.py\n",
    "from abc import ABC, abstractmethod\n",
    "\n",
    "\n",
    "class ICoffeeShop(ABC):\n",
    "    # traditional shops\n",
    "    @abstractmethod\n",
    "    def brew_by_espresso_machine(self):\n",
    "        pass\n",
    "\n",
    "    @abstractmethod\n",
    "    def brew_machine_pour_over(self):\n",
    "        pass\n",
    "\n",
    "    # third wave shops\n",
    "    @abstractmethod\n",
    "    def brew_by_hand_held_espresso_maker(self):\n",
    "        pass\n",
    "\n",
    "    @abstractmethod\n",
    "    def brew_manual_pour_over(self):\n",
    "        pass\n",
    "\n",
    "    # both\n",
    "    @abstractmethod\n",
    "    def brew_filter_coffee(self):\n",
    "        pass\n",
    "\n",
    "\n",
    "class Traditional(ICoffeeShop):\n",
    "    def brew_by_espresso_machine(self):\n",
    "        print(\"brewing by expresso machine\")\n",
    "\n",
    "    def brew_machine_pour_over(self):\n",
    "        print(\"brewing maching pour over\")\n",
    "\n",
    "    def brew_filter_coffee(self):\n",
    "        print(\"brewing filter coffee\")\n",
    "\n",
    "    def brew_by_hand_held_espresso_maker(self):\n",
    "        raise NotImplementedError(\"We don't brew by hand held espresso maker\")\n",
    "\n",
    "    def brew_manual_pour_over(self):\n",
    "        raise NotImplementedError(\"We don't brewManualPourOver\")\n",
    "\n",
    "\n",
    "class ThirdWave(ICoffeeShop):\n",
    "    def brew_by_hand_held_espresso_maker(self):\n",
    "        print(\"brewing by hand held expresso maker\")\n",
    "\n",
    "    def brew_manual_pour_over(self):\n",
    "        print(\"brewing manual pour over\")\n",
    "\n",
    "    def brew_filter_coffee(self):\n",
    "        print(\"brewing filter coffee\")\n",
    "\n",
    "    def brew_by_espresso_machine(self):\n",
    "        raise NotImplementedError(\"We don't brew by expresso machine\")\n",
    "\n",
    "    def brew_machine_pour_over(self):\n",
    "        raise NotImplementedError(\"We don't brew manual pour over\")\n",
    "\n",
    "\n",
    "if __name__ == \"__main__\":\n",
    "    def print_all(coffee_shop: ICoffeeShop):\n",
    "        \"\"\"Try all the methods...\"\"\"\n",
    "        def handle_exception(func):\n",
    "            \"\"\"Print the exception if one is raised\"\"\"\n",
    "            try:\n",
    "                func()\n",
    "            except NotImplementedError as exception:\n",
    "                print(f'-> {exception}')\n",
    "\n",
    "        handle_exception(coffee_shop.brew_by_espresso_machine)\n",
    "        handle_exception(coffee_shop.brew_machine_pour_over)\n",
    "        handle_exception(coffee_shop.brew_by_hand_held_espresso_maker)\n",
    "        handle_exception(coffee_shop.brew_manual_pour_over)\n",
    "        coffee_shop.brew_filter_coffee()\n",
    "\n",
    "    print('For a Traditional Coffee Shop...')\n",
    "    print_all(Traditional())\n",
    "    print('')\n",
    "    print('For a ThirdWave Coffee Shop...')\n",
    "    print_all(ThirdWave())\n"
   ]
  },
  {
   "cell_type": "code",
   "execution_count": 13,
   "metadata": {},
   "outputs": [
    {
     "name": "stdout",
     "output_type": "stream",
     "text": [
      "Success: no issues found in 1 source file\n",
      "For a Traditional Coffee Shop...\n",
      "brewing by expresso machine\n",
      "brewing maching pour over\n",
      "-> We don't brew by hand held espresso maker\n",
      "-> We don't brewManualPourOver\n",
      "brewing filter coffee\n",
      "\n",
      "For a ThirdWave Coffee Shop...\n",
      "-> We don't brew by expresso machine\n",
      "-> We don't brew manual pour over\n",
      "brewing by hand held expresso maker\n",
      "brewing manual pour over\n",
      "brewing filter coffee\n"
     ]
    }
   ],
   "source": [
    "!cd labwork4 && mypy exercise4.py\n",
    "!cd labwork4 && python exercise4.py"
   ]
  },
  {
   "cell_type": "markdown",
   "metadata": {},
   "source": [
    "## Exercise 5\n",
    "Let us finish SOLID by the DIP...\n",
    "Modify the following code to respect it!"
   ]
  },
  {
   "cell_type": "code",
   "execution_count": 14,
   "metadata": {},
   "outputs": [
    {
     "name": "stdout",
     "output_type": "stream",
     "text": [
      "Writing labwork4/exercise5.py\n"
     ]
    }
   ],
   "source": [
    "%%writefile labwork4/exercise5.py\n",
    "class CoffeeShop:\n",
    "    def __init__(self, name: str):\n",
    "        self.__name = name\n",
    "\n",
    "    def get_payment(self):\n",
    "        print(f\"{self.__name} gets the payment\")\n",
    "\n",
    "    def deliver_coffee(self):\n",
    "        print(f\"{self.__name} delivers the coffee\")\n",
    "\n",
    "\n",
    "class Customer:\n",
    "    def __init__(self, name: str):\n",
    "        self.__name = name\n",
    "\n",
    "    def make_payment(self):\n",
    "        print(f\"{self.__name} makes the payment\")\n",
    "\n",
    "    def receive_coffee(self):\n",
    "        print(f\"{self.__name} receives the coffee\")\n",
    "\n",
    "\n",
    "class Delivery:\n",
    "    def __init__(self, customer: Customer, coffee_shop: CoffeeShop):\n",
    "        self.__customer = customer\n",
    "        self.__coffee_shop = coffee_shop\n",
    "\n",
    "    def delivers(self):\n",
    "        self.__customer.make_payment()\n",
    "        self.__coffee_shop.get_payment()\n",
    "        self.__coffee_shop.deliver_coffee()\n",
    "        self.__customer.receive_coffee()\n",
    "\n",
    "\n",
    "if __name__ == '__main__':\n",
    "    Delivery(Customer('Uncle Bob'), CoffeeShop('La Viet')).delivers()\n"
   ]
  },
  {
   "cell_type": "code",
   "execution_count": 15,
   "metadata": {},
   "outputs": [
    {
     "name": "stdout",
     "output_type": "stream",
     "text": [
      "Success: no issues found in 1 source file\n",
      "Uncle Bob makes the payment\n",
      "La Viet gets the payment\n",
      "La Viet delivers the coffee\n",
      "Uncle Bob receives the coffee\n"
     ]
    }
   ],
   "source": [
    "!cd labwork4 && mypy exercise5.py\n",
    "!cd labwork4 && python exercise5.py"
   ]
  }
 ],
 "metadata": {
  "kernelspec": {
   "display_name": "Python 3.9.7 64-bit",
   "language": "python",
   "name": "python3"
  },
  "language_info": {
   "codemirror_mode": {
    "name": "ipython",
    "version": 3
   },
   "file_extension": ".py",
   "mimetype": "text/x-python",
   "name": "python",
   "nbconvert_exporter": "python",
   "pygments_lexer": "ipython3",
   "version": "3.9.7"
  },
  "orig_nbformat": 4,
  "vscode": {
   "interpreter": {
    "hash": "9b4d75ac280b6c7c3aa43866cb82dc88915409b55fec83a093dd0284cb58708e"
   }
  }
 },
 "nbformat": 4,
 "nbformat_minor": 2
}
