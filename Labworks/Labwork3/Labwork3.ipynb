{
 "cells": [
  {
   "cell_type": "markdown",
   "metadata": {},
   "source": [
    "# Labwork 3\n",
    "This labwork concerns the lecture 3, and so is about testing in Python.\n",
    "\n",
    "Before to start, run the following cell to build the necessary directories..."
   ]
  },
  {
   "cell_type": "code",
   "execution_count": 1,
   "metadata": {},
   "outputs": [],
   "source": [
    "%%python\n",
    "import os\n",
    "\n",
    "def build_if_not_exist_dir(dir):\n",
    "    if not os.path.exists(dir):\n",
    "        os.mkdir(dir)\n",
    "\n",
    "build_if_not_exist_dir('.dummy')\n",
    "\n",
    "all_dirs = [ '.dummy/exercise1', '.dummy/exercise2', '.dummy/exercise3' ]\n",
    "\n",
    "for base_dir in all_dirs:    \n",
    "    build_if_not_exist_dir(base_dir)    \n",
    "    build_if_not_exist_dir(os.path.join(base_dir, 'api'))    \n",
    "    build_if_not_exist_dir(os.path.join(base_dir, 'tests'))"
   ]
  },
  {
   "cell_type": "markdown",
   "metadata": {},
   "source": [
    "Moreover you will need to install the `colorama` module using `pip`...\n",
    "```bash\n",
    "pip install colorama\n",
    "```\n",
    "On Windows this may requires upgraded privilege, so we let you do it by yourself... 😵"
   ]
  },
  {
   "cell_type": "markdown",
   "metadata": {},
   "source": [
    "## Exercise 1\n",
    "This first exercise's objective is to add unit testing to the following file, including all functions. "
   ]
  },
  {
   "cell_type": "code",
   "execution_count": 2,
   "metadata": {},
   "outputs": [
    {
     "name": "stdout",
     "output_type": "stream",
     "text": [
      "Overwriting .dummy/exercise1/api/factorial.py\n"
     ]
    }
   ],
   "source": [
    "%%writefile .dummy/exercise1/api/factorial.py\n",
    "\n",
    "def factorial(n:int) -> int:\n",
    "    \"\"\"\n",
    "    Returns the factorial of its parameter.\n",
    "\n",
    "    The factorial of n (written as n!) is equal to n*factorial(n-1) \n",
    "    for all n>1. \n",
    "    We extend this definition with factorial(0) being equal to 1.\n",
    "    Factorial is not defined for negative number!\n",
    "    \"\"\"\n",
    "    if n < 0:\n",
    "        raise ValueError('parameter must be positive integer')\n",
    "\n",
    "    if not isinstance(n, int):\n",
    "        raise TypeError('parameter should be an integer')\n",
    "    \n",
    "    result = 1\n",
    "\n",
    "    for i in range(n):\n",
    "        result *= i+1\n",
    "\n",
    "    return result\n",
    "\n",
    "\n",
    "def fibonacci(n):\n",
    "    \"\"\"\n",
    "    Return the nth Fibonacci number.\n",
    "\n",
    "    Fibonacci numbers are defined by recurrence as:\n",
    "    - Fibonacci(0) = 0\n",
    "    - Fibonacci(1) = 0\n",
    "    - Fibonacci(n) = Fibonacci(n-1) + Fibonacci(n-2) for n>1\n",
    "    Notice that it is not defined for negative number!\n",
    "    \"\"\"\n",
    "    if n < 0:\n",
    "        raise ValueError('parameter must be positive integer')\n",
    "    \n",
    "    if not isinstance(n, int):\n",
    "        raise TypeError('parameter should be an integer')\n",
    "    \n",
    "    # we use the matrix version (see wikipedia)\n",
    "    fib_i1, fib_i2 = 0, 1\n",
    "    for i in range(0,n):\n",
    "        fib_i1, fib_i2 = fib_i2 , fib_i1 + fib_i2\n",
    "\n",
    "    return fib_i1\n",
    "\n",
    " \n",
    "if __name__ == '__main__':\n",
    "    def try_factorial():\n",
    "        try:\n",
    "            factorial(-1)\n",
    "        except ValueError:\n",
    "            print('catch exception as expected...')\n",
    "        for i in range(11):\n",
    "            print(f'factorial({i}) = {factorial(i)}')\n",
    "    def try_fibonacci():\n",
    "        try:\n",
    "            fibonacci(-1)\n",
    "        except ValueError:\n",
    "            print('catch exception as expected...')\n",
    "        for i in range(20):\n",
    "            print(f'fibonacci({i}) = {fibonacci(i)}')\n",
    "    try_factorial()\n",
    "    try_fibonacci() "
   ]
  },
  {
   "cell_type": "code",
   "execution_count": 3,
   "metadata": {},
   "outputs": [
    {
     "name": "stdout",
     "output_type": "stream",
     "text": [
      "Overwriting .dummy/exercise1/api/__init__.py\n"
     ]
    }
   ],
   "source": [
    "%%writefile .dummy/exercise1/api/__init__.py\n",
    "\n",
    "from .factorial import *"
   ]
  },
  {
   "cell_type": "code",
   "execution_count": 4,
   "metadata": {},
   "outputs": [
    {
     "name": "stdout",
     "output_type": "stream",
     "text": [
      "catch exception as expected...\n",
      "factorial(0) = 1\n",
      "factorial(1) = 1\n",
      "factorial(2) = 2\n",
      "factorial(3) = 6\n",
      "factorial(4) = 24\n",
      "factorial(5) = 120\n",
      "factorial(6) = 720\n",
      "factorial(7) = 5040\n",
      "factorial(8) = 40320\n",
      "factorial(9) = 362880\n",
      "factorial(10) = 3628800\n",
      "catch exception as expected...\n",
      "fibonacci(0) = 0\n",
      "fibonacci(1) = 1\n",
      "fibonacci(2) = 1\n",
      "fibonacci(3) = 2\n",
      "fibonacci(4) = 3\n",
      "fibonacci(5) = 5\n",
      "fibonacci(6) = 8\n",
      "fibonacci(7) = 13\n",
      "fibonacci(8) = 21\n",
      "fibonacci(9) = 34\n",
      "fibonacci(10) = 55\n",
      "fibonacci(11) = 89\n",
      "fibonacci(12) = 144\n",
      "fibonacci(13) = 233\n",
      "fibonacci(14) = 377\n",
      "fibonacci(15) = 610\n",
      "fibonacci(16) = 987\n",
      "fibonacci(17) = 1597\n",
      "fibonacci(18) = 2584\n",
      "fibonacci(19) = 4181\n"
     ]
    }
   ],
   "source": [
    "!cd .dummy/exercise1/api && python factorial.py"
   ]
  },
  {
   "cell_type": "markdown",
   "metadata": {},
   "source": [
    "Use the **two following cells** to implement the required test (considering all possible situations...)."
   ]
  },
  {
   "cell_type": "code",
   "execution_count": 5,
   "metadata": {},
   "outputs": [
    {
     "name": "stdout",
     "output_type": "stream",
     "text": [
      "Overwriting .dummy/exercise1/tests/test_factorial.py\n"
     ]
    }
   ],
   "source": [
    "%%writefile .dummy/exercise1/tests/test_factorial.py\n",
    "import unittest\n",
    "from api import factorial\n",
    "\n",
    "# do it here for factorial"
   ]
  },
  {
   "cell_type": "code",
   "execution_count": 7,
   "metadata": {},
   "outputs": [
    {
     "name": "stdout",
     "output_type": "stream",
     "text": [
      "Writing .dummy/exercise1/tests/test_fibonacci.py\n"
     ]
    }
   ],
   "source": [
    "%%writefile .dummy/exercise1/tests/test_fibonacci.py\n",
    "import unittest\n",
    "from api import fibonacci\n",
    "\n",
    "# do it here for fibonacci"
   ]
  },
  {
   "cell_type": "markdown",
   "metadata": {},
   "source": [
    "Then **run the following cell** to launch the test!"
   ]
  },
  {
   "cell_type": "code",
   "execution_count": 8,
   "metadata": {},
   "outputs": [
    {
     "name": "stderr",
     "output_type": "stream",
     "text": [
      "\n",
      "----------------------------------------------------------------------\n",
      "Ran 0 tests in 0.000s\n",
      "\n",
      "NO TESTS RAN\n"
     ]
    }
   ],
   "source": [
    "!cd .dummy/exercise1 && python -m unittest discover -s tests"
   ]
  },
  {
   "cell_type": "markdown",
   "metadata": {},
   "source": [
    "## Exercise 2\n",
    "This exercise explores the testing of a rather simple class (before to try a more interesting situation), encountered in the previous labwork &#x1F601;.\n",
    "The API is the one done in the following cells (run them to write that onto your HD):"
   ]
  },
  {
   "cell_type": "code",
   "execution_count": 9,
   "metadata": {},
   "outputs": [
    {
     "name": "stdout",
     "output_type": "stream",
     "text": [
      "Overwriting .dummy/exercise2/api/__init__.py\n"
     ]
    }
   ],
   "source": [
    "%%writefile .dummy/exercise2/api/__init__.py\n",
    "from .LinkedList import Node, LinkedList"
   ]
  },
  {
   "cell_type": "code",
   "execution_count": 10,
   "metadata": {},
   "outputs": [
    {
     "name": "stdout",
     "output_type": "stream",
     "text": [
      "Overwriting .dummy/exercise2/api/LinkedList.py\n"
     ]
    }
   ],
   "source": [
    "%%writefile .dummy/exercise2/api/LinkedList.py\n",
    "class Node:\n",
    "    def __init__(self, data, next_node=None):\n",
    "        self.__data = data\n",
    "        self.__next = next_node\n",
    "\n",
    "    def __repr__(self):\n",
    "        return '(' + repr(self.__data) + ')'\n",
    "    \n",
    "    @property\n",
    "    def data(self):\n",
    "        return self.__data\n",
    "    \n",
    "    @property\n",
    "    def next(self):\n",
    "        return self.__next\n",
    "\n",
    "    @next.setter\n",
    "    def next(self, node):\n",
    "        self.__next = node\n",
    "\n",
    "class LinkedList:\n",
    "    def __init__(self, values = None):\n",
    "        self.__head = None\n",
    "        if values is not None:\n",
    "            node = None\n",
    "            for elem in values:\n",
    "                if node is None:\n",
    "                    self.__head = Node(elem)\n",
    "                    node = self.__head\n",
    "                else:\n",
    "                    node.next = Node(elem)\n",
    "                    node = node.next\n",
    "\n",
    "    def __repr__(self):\n",
    "        node = self.__head\n",
    "        nodes = []\n",
    "        while node is not None:\n",
    "            nodes.append(repr(node))\n",
    "            node = node.next\n",
    "        nodes.append(\"None\")\n",
    "        return \" -> \".join(nodes)\n",
    "\n",
    "    def __iter__(self):\n",
    "        node = self.__head\n",
    "        while node is not None:\n",
    "            yield node\n",
    "            node = node.next\n",
    "    \n",
    "    def __len__(self):\n",
    "        result = 0\n",
    "        node = self.__head\n",
    "        while node is not None:\n",
    "            result = result + 1\n",
    "            node = node.next\n",
    "        return result\n",
    "\n",
    "    def is_empty(self):\n",
    "        return self.__head is None\n",
    "\n",
    "    def __node_to_node(self, node, next=None):\n",
    "        if isinstance(node, Node):\n",
    "            node.next = next\n",
    "            return node\n",
    "        return Node(node, next)\n",
    "    \n",
    "    def add_first(self, node):\n",
    "        self.__head = self.__node_to_node(node, self.__head)\n",
    "\n",
    "    def add_last(self, node):\n",
    "        if self.is_empty():\n",
    "            self.__head = self.__node_to_node(node)\n",
    "            return\n",
    "        current_node = self.__head\n",
    "        while current_node.next is not None:\n",
    "            current_node = current_node.next\n",
    "        current_node.next = self.__node_to_node(node)\n",
    "    \n",
    "    def add_before(self, target_node_data, new_node):\n",
    "        if self.is_empty():\n",
    "            raise ValueError(\"List is empty\")\n",
    "\n",
    "        if self.__head.data == target_node_data:\n",
    "            return self.add_first(new_node)\n",
    "\n",
    "        prev_node = self.__head\n",
    "        for node in self:\n",
    "            if node.data == target_node_data:\n",
    "                prev_node.next = self.__node_to_node(new_node, node)\n",
    "                return\n",
    "            prev_node = node\n",
    "\n",
    "        raise ValueError(f\"Node with data {target_node_data} not found\")\n",
    "\n",
    "    def add_after(self, target_node_data, new_node):\n",
    "        if self.is_empty():\n",
    "            raise Exception(\"List is empty\")\n",
    "\n",
    "        for node in self:\n",
    "            if node.data == target_node_data:\n",
    "                node.next = self.__node_to_node(new_node, node.next)\n",
    "                return\n",
    "\n",
    "        raise ValueError(f\"Node with data {target_node_data} not found\")\n",
    "\n",
    "    def remove_node(self, target_node_data):\n",
    "        if self.is_empty():\n",
    "            raise ValueError(\"List is empty\")\n",
    "\n",
    "        if self.__head.data == target_node_data:\n",
    "            self.__head = self.__head.next\n",
    "            return\n",
    "\n",
    "        previous_node = self.__head\n",
    "        for node in self:\n",
    "            if node.data == target_node_data:\n",
    "                previous_node.next = node.next\n",
    "                return\n",
    "            previous_node = node\n",
    "\n",
    "        raise ValueError(f\"Node with data {target_node_data} not found\")"
   ]
  },
  {
   "cell_type": "markdown",
   "metadata": {},
   "source": [
    "Add your tests in the following file:"
   ]
  },
  {
   "cell_type": "code",
   "execution_count": 11,
   "metadata": {},
   "outputs": [
    {
     "name": "stdout",
     "output_type": "stream",
     "text": [
      "Overwriting .dummy/exercise2/tests/test_Node.py\n"
     ]
    }
   ],
   "source": [
    "%%writefile .dummy/exercise2/tests/test_Node.py\n",
    "# test the Node class"
   ]
  },
  {
   "cell_type": "code",
   "execution_count": 12,
   "metadata": {},
   "outputs": [
    {
     "name": "stdout",
     "output_type": "stream",
     "text": [
      "Overwriting .dummy/exercise2/tests/tests_LinkedList.py\n"
     ]
    }
   ],
   "source": [
    "%%writefile .dummy/exercise2/tests/tests_LinkedList.py\n",
    "# test the LinkedList class"
   ]
  },
  {
   "cell_type": "markdown",
   "metadata": {},
   "source": [
    "Now, use the following cell to launch the test:"
   ]
  },
  {
   "cell_type": "code",
   "execution_count": 13,
   "metadata": {},
   "outputs": [
    {
     "name": "stderr",
     "output_type": "stream",
     "text": [
      "\n",
      "----------------------------------------------------------------------\n",
      "Ran 0 tests in 0.000s\n",
      "\n",
      "NO TESTS RAN\n"
     ]
    }
   ],
   "source": [
    "!cd .dummy/exercise2 && python -m unittest discover -s tests"
   ]
  },
  {
   "cell_type": "markdown",
   "metadata": {},
   "source": [
    "## Exercise 3\n",
    "Now let us play with a more complete example... This exercise proposes a simple class hierarchy, plus a method that uses a list of objects of different classes. \n",
    "\n",
    "In order to implement *unit testing*, you must test each class/method independently of the others...\n",
    "\n",
    "How ? \n",
    "\n",
    "Using mocking!\n",
    "\n",
    "Of course, later you may implement *integration testing* to check the full mechanism works as expected..."
   ]
  },
  {
   "cell_type": "code",
   "execution_count": 14,
   "metadata": {},
   "outputs": [
    {
     "name": "stdout",
     "output_type": "stream",
     "text": [
      "Overwriting .dummy/exercise3/api/__init__.py\n"
     ]
    }
   ],
   "source": [
    "%%writefile .dummy/exercise3/api/__init__.py\n",
    "from .Employee import Employee\n",
    "from .SalaryEmployee import SalaryEmployee\n",
    "from .CommissionEmployee import CommissionEmployee\n",
    "from .HourlyEmployee import HourlyEmployee\n",
    "from .PayrollSystem import PayrollSystem "
   ]
  },
  {
   "cell_type": "code",
   "execution_count": 15,
   "metadata": {},
   "outputs": [
    {
     "name": "stdout",
     "output_type": "stream",
     "text": [
      "Overwriting .dummy/exercise3/api/Employee.py\n"
     ]
    }
   ],
   "source": [
    "%%writefile .dummy/exercise3/api/Employee.py\n",
    "from abc import ABC, abstractmethod\n",
    "\n",
    "\n",
    "class Employee:\n",
    "    \"\"\"Define an employee, from its identifier and name\"\"\"\n",
    "\n",
    "    def __init__(self, identifier: int, name: str) -> None:\n",
    "        self.__identifier = identifier\n",
    "        self.__name = name\n",
    "\n",
    "    @property\n",
    "    def identifier(self) -> int:\n",
    "        return self.__identifier\n",
    "\n",
    "    @property\n",
    "    def name(self) -> str:\n",
    "        return self.__name\n",
    "\n",
    "    @abstractmethod\n",
    "    def calculate_pay_month(self) -> float:\n",
    "        return 0.0"
   ]
  },
  {
   "cell_type": "code",
   "execution_count": 16,
   "metadata": {},
   "outputs": [
    {
     "name": "stdout",
     "output_type": "stream",
     "text": [
      "Overwriting .dummy/exercise3/api/SalaryEmployee.py\n"
     ]
    }
   ],
   "source": [
    "%%writefile .dummy/exercise3/api/SalaryEmployee.py\n",
    "from api import Employee\n",
    "\n",
    "\n",
    "class SalaryEmployee(Employee):\n",
    "    \"\"\"\n",
    "    Salary employee has a fix salary, payed each month with the same amount.\n",
    "    \"\"\"\n",
    "\n",
    "    def __init__(self, identifier: int, name: str, annual_salary: float):\n",
    "        \"\"\"\"\n",
    "        Initializes a Salary Employee\n",
    "\n",
    "        Notice that the annual salary is given for one year...\n",
    "        \"\"\"\n",
    "\n",
    "        super().__init__(identifier, name)\n",
    "        self.__annual_salary = annual_salary\n",
    "\n",
    "    def calculate_pay_month(self) -> float:\n",
    "        return self.__annual_salary / 12.0"
   ]
  },
  {
   "cell_type": "code",
   "execution_count": 17,
   "metadata": {},
   "outputs": [
    {
     "name": "stdout",
     "output_type": "stream",
     "text": [
      "Overwriting .dummy/exercise3/api/CommissionEmployee.py\n"
     ]
    }
   ],
   "source": [
    "%%writefile .dummy/exercise3/api/CommissionEmployee.py\n",
    "from api import Employee, SalaryEmployee\n",
    "\n",
    "\n",
    "class CommissionEmployee(SalaryEmployee):\n",
    "    \"\"\"Commission Employee payed using a fix annual salary, plus commissions\"\"\"\n",
    "\n",
    "    def __init__(self, identifier: int, name: str, monthly_salary: float, commission: float):\n",
    "        super().__init__(identifier, name, monthly_salary)\n",
    "        self.__commission = commission\n",
    "\n",
    "    def calculate_pay_month(self):\n",
    "        fixed = super().calculate_pay_month()\n",
    "        return fixed + self.__commission"
   ]
  },
  {
   "cell_type": "code",
   "execution_count": 18,
   "metadata": {},
   "outputs": [
    {
     "name": "stdout",
     "output_type": "stream",
     "text": [
      "Overwriting .dummy/exercise3/api/HourlyEmployee.py\n"
     ]
    }
   ],
   "source": [
    "%%writefile .dummy/exercise3/api/HourlyEmployee.py\n",
    "from api import Employee\n",
    "\n",
    "\n",
    "class HourlyEmployee(Employee):\n",
    "    \"\"\"\n",
    "    Employee who is payed for each working hour\n",
    "    \"\"\"\n",
    "\n",
    "    def __init__(self, identifier: int, name: str, hour_rate: float):\n",
    "        super().__init__(identifier, name)\n",
    "        self.__hours_worked = 0\n",
    "        self.__hour_rate = hour_rate\n",
    "\n",
    "    @property\n",
    "    def hours_worked(self) -> int:\n",
    "        return self.__hours_worked\n",
    "\n",
    "    @hours_worked.setter\n",
    "    def hours_worked(self, hours_in_month: int) -> int:\n",
    "        self.__hours_worked = hours_in_month\n",
    "        return self.__hours_worked\n",
    "\n",
    "    def calculate_pay_month(self) -> float:\n",
    "        return self.hours_worked * self.__hour_rate"
   ]
  },
  {
   "cell_type": "code",
   "execution_count": 19,
   "metadata": {},
   "outputs": [
    {
     "name": "stdout",
     "output_type": "stream",
     "text": [
      "Overwriting .dummy/exercise3/api/PayrollSystem.py\n"
     ]
    }
   ],
   "source": [
    "%%writefile .dummy/exercise3/api/PayrollSystem.py\n",
    "from api import Employee\n",
    "\n",
    "\n",
    "class PayrollSystem:\n",
    "    \"\"\"\n",
    "    Human resource payroll system...\n",
    "    \"\"\"\n",
    "\n",
    "    def __init__(self):\n",
    "        self.__employees = {}\n",
    "\n",
    "    def is_employee(self, employee: Employee) -> bool:\n",
    "        \"\"\"Check if a given employee is into the database\"\"\"\n",
    "\n",
    "        return employee.identifier in self.__employees\n",
    "\n",
    "    def add_employee(self, employee: Employee) -> None:\n",
    "        \"\"\"Add a new employee to the database\"\"\"\n",
    "\n",
    "        if self.is_employee(employee):\n",
    "            raise ValueError(f'employee {employee.identifier} already exists')\n",
    "\n",
    "        self.__employees[employee.identifier] = employee\n",
    "\n",
    "    def remove_employee(self, employee: Employee) -> None:\n",
    "        \"\"\"Remove a given employee from the database\"\"\"\n",
    "\n",
    "        if not self.is_employee(employee):\n",
    "            raise ValueError(f'employee {employee.identifier} is not in the database')\n",
    "\n",
    "        del self.__employees[employee.identifier]\n",
    "\n",
    "    def get_employee(self, identifier: int) -> Employee:\n",
    "        return self.__employees[identifier]\n",
    "\n",
    "    def calculate_pay_month(self) -> dict[int, float]:\n",
    "        \"\"\"Calculates and return the pay into a dictionary\"\"\"\n",
    "\n",
    "        result = {}\n",
    "\n",
    "        for employee in self.__employees.values():\n",
    "            result[employee.identifier] = employee.calculate_pay_month()\n",
    "\n",
    "        return result\n",
    "\n",
    "    def calculate_payroll(self) -> float:\n",
    "        \"\"\"Calculates and return the total payroll for all employees\"\"\"\n",
    "\n",
    "        result = 0\n",
    "\n",
    "        for employee in self.__employees.values():\n",
    "            result = result + employee.calculate_pay_month()\n",
    "\n",
    "        return result\n",
    "\n",
    "    def generate_identifier(self) -> int:\n",
    "        \"\"\"Generate an unused employee identifier\"\"\"\n",
    "        if len(self.__employees) == 0:\n",
    "            return 1\n",
    "        max_key = max(self.__employees)\n",
    "        return 1 + max_key"
   ]
  },
  {
   "cell_type": "markdown",
   "metadata": {},
   "source": [
    "We can try this api using the following piece of code:"
   ]
  },
  {
   "cell_type": "code",
   "execution_count": 20,
   "metadata": {},
   "outputs": [
    {
     "name": "stdout",
     "output_type": "stream",
     "text": [
      "Overwriting .dummy/exercise3/main.py\n"
     ]
    }
   ],
   "source": [
    "%%writefile .dummy/exercise3/main.py\n",
    "from api import (PayrollSystem, SalaryEmployee, CommissionEmployee, HourlyEmployee)\n",
    "\n",
    "\n",
    "\n",
    "if __name__ == \"__main__\":\n",
    "\n",
    "    payroll_system = PayrollSystem()\n",
    "\n",
    "    payroll_system.add_employee(SalaryEmployee(payroll_system.generate_identifier(), 'John Smith', 85000))\n",
    "    payroll_system.add_employee(CommissionEmployee(payroll_system.generate_identifier(), 'Kevin Bacon', 50000, 2500))\n",
    "\n",
    "    jane_doe = HourlyEmployee(payroll_system.generate_identifier(), 'Jane Doe', 15)\n",
    "    payroll_system.add_employee(jane_doe)\n",
    "\n",
    "    jane_doe.hours_worked = 42\n",
    "\n",
    "    payroll = payroll_system.calculate_pay_month()\n",
    "    print('Payroll:')\n",
    "    for p in payroll.items():\n",
    "        print(f'- for {p[0]}: {p[1]}')\n",
    "    print(f'total is {payroll_system.calculate_payroll()}')"
   ]
  },
  {
   "cell_type": "code",
   "execution_count": 21,
   "metadata": {},
   "outputs": [
    {
     "name": "stdout",
     "output_type": "stream",
     "text": [
      "Payroll:\n",
      "- for 1: 7083.333333333333\n",
      "- for 2: 6666.666666666667\n",
      "- for 3: 630\n",
      "total is 14380.0\n"
     ]
    }
   ],
   "source": [
    "!cd .dummy/exercise3 && python main.py"
   ]
  },
  {
   "cell_type": "markdown",
   "metadata": {},
   "source": [
    "The objective is to test every class into `api`. \n",
    "\n",
    "Put all your tests into the following files..."
   ]
  },
  {
   "cell_type": "code",
   "execution_count": 22,
   "metadata": {},
   "outputs": [
    {
     "name": "stdout",
     "output_type": "stream",
     "text": [
      "Overwriting .dummy/exercise3/tests/test_Employee.py\n"
     ]
    }
   ],
   "source": [
    "%%writefile .dummy/exercise3/tests/test_Employee.py\n",
    "from api import Employee\n",
    "\n",
    "# put your tests below\n"
   ]
  },
  {
   "cell_type": "code",
   "execution_count": 23,
   "metadata": {},
   "outputs": [
    {
     "name": "stderr",
     "output_type": "stream",
     "text": [
      "\n",
      "----------------------------------------------------------------------\n",
      "Ran 0 tests in 0.000s\n",
      "\n",
      "NO TESTS RAN\n"
     ]
    }
   ],
   "source": [
    "!cd .dummy/exercise3 && python -m unittest tests/test_Employee.py"
   ]
  },
  {
   "cell_type": "code",
   "execution_count": 24,
   "metadata": {},
   "outputs": [
    {
     "name": "stdout",
     "output_type": "stream",
     "text": [
      "Overwriting .dummy/exercise3/tests/test_SalaryEmployee.py\n"
     ]
    }
   ],
   "source": [
    "%%writefile .dummy/exercise3/tests/test_SalaryEmployee.py\n",
    "from api import SalaryEmployee\n",
    "\n",
    "# put your tests below\n"
   ]
  },
  {
   "cell_type": "code",
   "execution_count": 25,
   "metadata": {},
   "outputs": [
    {
     "name": "stderr",
     "output_type": "stream",
     "text": [
      "\n",
      "----------------------------------------------------------------------\n",
      "Ran 0 tests in 0.000s\n",
      "\n",
      "NO TESTS RAN\n"
     ]
    }
   ],
   "source": [
    "!cd .dummy/exercise3 && python -m unittest tests/test_SalaryEmployee.py"
   ]
  },
  {
   "cell_type": "code",
   "execution_count": 26,
   "metadata": {},
   "outputs": [
    {
     "name": "stdout",
     "output_type": "stream",
     "text": [
      "Overwriting .dummy/exercise3/tests/test_HourlyEmployee.py\n"
     ]
    }
   ],
   "source": [
    "%%writefile .dummy/exercise3/tests/test_HourlyEmployee.py\n",
    "from api import HourlyEmployee\n",
    "\n",
    "# put your tests below\n"
   ]
  },
  {
   "cell_type": "code",
   "execution_count": 27,
   "metadata": {},
   "outputs": [
    {
     "name": "stderr",
     "output_type": "stream",
     "text": [
      "\n",
      "----------------------------------------------------------------------\n",
      "Ran 0 tests in 0.000s\n",
      "\n",
      "NO TESTS RAN\n"
     ]
    }
   ],
   "source": [
    "!cd .dummy/exercise3 && python -m unittest tests/test_HourlyEmployee.py"
   ]
  },
  {
   "cell_type": "code",
   "execution_count": 28,
   "metadata": {},
   "outputs": [
    {
     "name": "stdout",
     "output_type": "stream",
     "text": [
      "Overwriting .dummy/exercise3/tests/test_CommissionEmployee.py\n"
     ]
    }
   ],
   "source": [
    "%%writefile .dummy/exercise3/tests/test_CommissionEmployee.py\n",
    "from api import CommissionEmployee\n",
    "\n",
    "# put your tests below\n"
   ]
  },
  {
   "cell_type": "code",
   "execution_count": 29,
   "metadata": {},
   "outputs": [
    {
     "name": "stderr",
     "output_type": "stream",
     "text": [
      "\n",
      "----------------------------------------------------------------------\n",
      "Ran 0 tests in 0.000s\n",
      "\n",
      "NO TESTS RAN\n"
     ]
    }
   ],
   "source": [
    "!cd .dummy/exercise3 && python -m unittest tests/test_CommissionEmployee.py"
   ]
  },
  {
   "cell_type": "markdown",
   "metadata": {},
   "source": [
    "The following is for payroll system. Here you should not use Employees classes, but only mocking them!"
   ]
  },
  {
   "cell_type": "code",
   "execution_count": 30,
   "metadata": {},
   "outputs": [
    {
     "name": "stdout",
     "output_type": "stream",
     "text": [
      "Overwriting .dummy/exercise3/tests/test_PayrollSystem.py\n"
     ]
    }
   ],
   "source": [
    "%%writefile .dummy/exercise3/tests/test_PayrollSystem.py\n",
    "from api import PayrollSystem\n",
    "\n",
    "# put your tests below\n"
   ]
  },
  {
   "cell_type": "markdown",
   "metadata": {},
   "source": [
    "Now, you may run your tests: "
   ]
  },
  {
   "cell_type": "code",
   "execution_count": 31,
   "metadata": {},
   "outputs": [
    {
     "name": "stderr",
     "output_type": "stream",
     "text": [
      "\n",
      "----------------------------------------------------------------------\n",
      "Ran 0 tests in 0.000s\n",
      "\n",
      "NO TESTS RAN\n"
     ]
    }
   ],
   "source": [
    "!cd .dummy/exercise3 && python -m unittest tests/test_PayrollSystem.py"
   ]
  },
  {
   "cell_type": "markdown",
   "metadata": {},
   "source": [
    "That's all folks!"
   ]
  }
 ],
 "metadata": {
  "kernelspec": {
   "display_name": "Python 3",
   "language": "python",
   "name": "python3"
  },
  "language_info": {
   "codemirror_mode": {
    "name": "ipython",
    "version": 3
   },
   "file_extension": ".py",
   "mimetype": "text/x-python",
   "name": "python",
   "nbconvert_exporter": "python",
   "pygments_lexer": "ipython3",
   "version": "3.12.2"
  },
  "orig_nbformat": 4
 },
 "nbformat": 4,
 "nbformat_minor": 2
}
