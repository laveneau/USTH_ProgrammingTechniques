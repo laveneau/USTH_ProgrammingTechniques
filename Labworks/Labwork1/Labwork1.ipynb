{
 "cells": [
  {
   "cell_type": "markdown",
   "metadata": {},
   "source": [
    "# Exercises\n",
    "\n",
    "Do the following list of exercises before to continue with the next lecture."
   ]
  },
  {
   "cell_type": "markdown",
   "metadata": {},
   "source": [
    "## Exercise 1\n",
    "Is the following piece of code correct?\n",
    "If not, try to modify it with the expected behavior."
   ]
  },
  {
   "cell_type": "code",
   "execution_count": 1,
   "metadata": {},
   "outputs": [
    {
     "name": "stdout",
     "output_type": "stream",
     "text": [
      "['roll over', 'play dead']\n"
     ]
    }
   ],
   "source": [
    "%%python\n",
    "class Dog:\n",
    "\n",
    "    tricks = []             \n",
    "\n",
    "    def __init__(self, name):\n",
    "        self.name = name\n",
    "\n",
    "    def add_trick(self, trick):\n",
    "        self.tricks.append(trick)\n",
    "\n",
    "d = Dog('Fido')\n",
    "d.add_trick('roll over')\n",
    "\n",
    "e = Dog('Buddy')\n",
    "e.add_trick('play dead')\n",
    "\n",
    "print(d.tricks)"
   ]
  },
  {
   "cell_type": "markdown",
   "metadata": {},
   "source": [
    "## Exercise 2\n",
    "Define a Python class representing a Vegetable. This class has one instance variable: its name (for instance `\"Tomato\"`, or `\"Lettuce\"`).\n",
    "Verify that it works building two objects and then printing their names."
   ]
  },
  {
   "cell_type": "code",
   "execution_count": 2,
   "metadata": {},
   "outputs": [],
   "source": [
    "%%python\n",
    "## up to you...\n",
    "## define a class named Vegetable\n",
    "\n",
    "## then instantiate two objects, \n",
    "\n",
    "## and then print their name"
   ]
  },
  {
   "cell_type": "markdown",
   "metadata": {},
   "source": [
    "## Exercise 3\n",
    "In this exercise, you have to write a first class to represent a vehicule (car, bicyle, train, airplane...).\n",
    "- a vehicule can transport a given number of people;\n",
    "- a vehicule can be engine-powered or not; \n",
    "- a vehicule has a maximum speed.  \n",
    "\n",
    "Then you have to write classes to handle bicycles, cars, boat, and plane. "
   ]
  },
  {
   "cell_type": "code",
   "execution_count": 3,
   "metadata": {},
   "outputs": [],
   "source": [
    "%%python\n",
    "## write you solution in this cell"
   ]
  },
  {
   "cell_type": "markdown",
   "metadata": {},
   "source": [
    "## Exercise 4\n",
    "In this exercise, you must write a multiple-inheritance scheme in which:\n",
    "- the class `Vehicule` is similar to the one in the previous exercise, albeit with a little difference;\n",
    "- the class `Engine` represents a combustion engine, and has a method that returns the type of fuel (diesel, gasoline, kerosene, coal, electricity, solar...) as an enumeration (see [Enum](https://docs.python.org/3/library/enum.html)), and a method that provides the average consumption;  \n",
    "- the classes `Donkey` and `Bicyle` which are vehicles without engine;\n",
    "- the classes `Boat`, `Car` and `Airplane` which are vehicules with engine. "
   ]
  },
  {
   "cell_type": "code",
   "execution_count": 4,
   "metadata": {},
   "outputs": [],
   "source": [
    "%%python\n",
    "## write your solution in this cell\n",
    "from enum import Enum"
   ]
  },
  {
   "cell_type": "markdown",
   "metadata": {},
   "source": [
    "## Exercise 5\n",
    "This exercise is pretty simple: you have to write a container called `DoubleLinkedList`, implementing a double linked list with the following operations:\n",
    "- constructor of an empty list,\n",
    "- iterator using `__iter__`,\n",
    "- adding an element at the beginning,\n",
    "- removing the first element.\n",
    "\n",
    "Add a testing program and verify it works correctly.\n",
    "You verification should do the following:\n",
    "- create a list,\n",
    "- add some element (e.g. 10),\n",
    "- display the list in ascending order,\n",
    "- display the list in reverse order,\n",
    "- remove the first ones (e.g. the 5 first ones),\n",
    "- display the list again,\n",
    "- verify the deleted elements are deleted..."
   ]
  },
  {
   "cell_type": "code",
   "execution_count": 5,
   "metadata": {},
   "outputs": [],
   "source": [
    "%%python\n",
    "\n",
    "# write your implementation here\n",
    "class DoubleLinkedList:\n",
    "    pass\n",
    "\n",
    "if __name__ == \"__main__\":\n",
    "    # add your test here (you may call functions...)\n",
    "    pass"
   ]
  }
 ],
 "metadata": {
  "kernelspec": {
   "display_name": "Python 3",
   "language": "python",
   "name": "python3"
  },
  "language_info": {
   "codemirror_mode": {
    "name": "ipython",
    "version": 3
   },
   "file_extension": ".py",
   "mimetype": "text/x-python",
   "name": "python",
   "nbconvert_exporter": "python",
   "pygments_lexer": "ipython3",
   "version": "3.12.2"
  },
  "orig_nbformat": 4
 },
 "nbformat": 4,
 "nbformat_minor": 2
}
