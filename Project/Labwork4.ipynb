{
 "cells": [
  {
   "cell_type": "markdown",
   "metadata": {},
   "source": [
    "# Project: refactoring test\n",
    "You came for a job interview, and it is requested to you to look at the following code, and to refactor it.\n",
    "It concerns the `UserService` class and more specifically its `AddUser` method.\n",
    "We assume the code is sound in terms of business logic...\n",
    "So you only have to focus on applying clean code principles.  \n",
    "\n",
    "## Limitation:\n",
    "- The `Program` class shall **not change at all**. \n",
    " This includes `import` statements, any character modification is forbidden.\n",
    "You should assume this is part of a greater system and any **non-backwards compatible change will break the system**.\n",
    "Any change in that class will result in you instantly failing the exercise...\n",
    "-  You can change anything in the `LegacyApp` project except for the `UserDataAccess` class and its `AddUser` method that **should stay static and with the same parameters**. But, you may (should ?) change the code of the `AddUser` method (not its prototype, but is coding).\n",
    "- The module `DB` cannot change, it is given for compatibility with the real database module. You should assume it is automatically generated for instance. So, **do not modify anything into `DB` module**. \n",
    "\n",
    "## Expectations\n",
    "So, many things cannot be change... What can you do? \n",
    "- You should modify anything into the `LegacyApp` module (excepting things that may change the `Program.py` file).\n",
    "- You should add tests for `LegacyApp` to verify you are breaking the things. \n",
    "- Tests should be robust (working today, and in ten years, and in one thousand years...).\n",
    "- The refactoring should be done according to Lecture 1 to 4... actually, mainly to the last one!\n",
    "- Adds the typing!\n",
    "\n",
    "## Strategy\n",
    "To work more efficiently, you may follow these steps:\n",
    "- Add the missing unit testing! For that you should transform the code mainly apply DIP.\n",
    "- Refactor the program (where you are granted to) using SOLID principles.\n",
    "- Add DRY (if needed) and KISS... "
   ]
  },
  {
   "cell_type": "markdown",
   "metadata": {},
   "source": [
    "## Where is the code?\n",
    "The code is given in the current folder. \n",
    "- `Program.py` is the main program that tests the Legacy Application. Do not modify it, and do such that it continues to work...\n",
    "- `DB` mimics a database access API. Do not modify it.\n",
    "- `LegacyApp` is the application that should be refactored (except the `AddUser` function signature in the `UserDataAccess.py` file)."
   ]
  }
 ],
 "metadata": {
  "kernelspec": {
   "display_name": "Python 3.9.7 64-bit",
   "language": "python",
   "name": "python3"
  },
  "language_info": {
   "codemirror_mode": {
    "name": "ipython",
    "version": 3
   },
   "file_extension": ".py",
   "mimetype": "text/x-python",
   "name": "python",
   "nbconvert_exporter": "python",
   "pygments_lexer": "ipython3",
   "version": "3.9.7"
  },
  "orig_nbformat": 4,
  "vscode": {
   "interpreter": {
    "hash": "9b4d75ac280b6c7c3aa43866cb82dc88915409b55fec83a093dd0284cb58708e"
   }
  }
 },
 "nbformat": 4,
 "nbformat_minor": 2
}
